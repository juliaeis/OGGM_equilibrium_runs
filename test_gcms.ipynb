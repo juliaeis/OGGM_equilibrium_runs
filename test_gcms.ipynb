{
 "cells": [
  {
   "cell_type": "code",
   "execution_count": null,
   "id": "b359f52a-61e7-4f8c-9eb9-d3fb42b650e9",
   "metadata": {},
   "outputs": [],
   "source": []
  },
  {
   "cell_type": "code",
   "execution_count": 5,
   "id": "3c71db57-2114-4764-8d57-a678d0dad582",
   "metadata": {},
   "outputs": [],
   "source": [
    "import os\n",
    "import xarray as xr\n",
    "import oggm\n",
    "from oggm import utils,cfg, workflow,tasks\n",
    "from oggm.workflow import execute_entity_task\n",
    "import pandas as pd\n",
    "import geopandas as gpd\n",
    "import numpy as np\n",
    "from time import gmtime, strftime\n",
    "from cluster import  read_cmip6_data"
   ]
  },
  {
   "cell_type": "code",
   "execution_count": 22,
   "id": "88b9fa65-9e30-4203-9232-acc9e2e39303",
   "metadata": {},
   "outputs": [
    {
     "name": "stderr",
     "output_type": "stream",
     "text": [
      "2022-01-25 10:44:33: oggm.cfg: Reading default parameters from the OGGM `params.cfg` configuration file.\n",
      "2022-01-25 10:44:33: oggm.cfg: Multiprocessing switched OFF according to the parameter file.\n",
      "2022-01-25 10:44:33: oggm.cfg: Multiprocessing: using all available processors (N=8)\n",
      "2022-01-25 10:44:33: oggm.cfg: Multiprocessing switched ON after user settings.\n",
      "2022-01-25 10:44:33: oggm.cfg: PARAMS['store_model_geometry'] changed from `False` to `True`.\n",
      "2022-01-25 10:44:34: oggm.cfg: PARAMS['border'] changed from `40` to `240`.\n",
      "2022-01-25 10:44:34: oggm.cfg: PARAMS['climate_qc_months'] changed from `3` to `0`.\n",
      "2022-01-25 10:44:34: oggm.cfg: PARAMS['hydro_month_nh'] changed from `10` to `1`.\n",
      "2022-01-25 10:44:34: oggm.cfg: PARAMS['hydro_month_sh'] changed from `4` to `1`.\n",
      "2022-01-25 10:44:34: oggm.workflow: init_glacier_regions from prepro level 5 on 1 glaciers.\n",
      "2022-01-25 10:44:34: oggm.workflow: Execute entity tasks [gdir_from_prepro] on 1 glaciers\n",
      "2022-01-25 10:44:34: oggm.utils: No known hash for cluster.klima.uni-bremen.de/~oggm/gdirs/oggm_v1.6/L3-L5_files/CRU/elev_bands/qc0/pcp2.5/match_geod_pergla/RGI62/b_240/L5/RGI60-11/RGI60-11.02.tar\n",
      "2022-01-25 10:44:34: oggm.workflow: Execute entity tasks [process_cmip_data] on 1 glaciers\n",
      "2022-01-25 10:44:34: oggm.shop.gcm_climate: (RGI60-11.02084) process_cmip_dataCMCC-CM2-HR4\n",
      "2022-01-25 10:44:35: oggm.shop.gcm_climate: (RGI60-11.02084) process_gcm_dataCMCC-CM2-HR4\n",
      "2022-01-25 10:44:36: oggm.workflow: Execute entity tasks [process_cmip_data] on 1 glaciers\n",
      "2022-01-25 10:44:36: oggm.shop.gcm_climate: (RGI60-11.02084) process_cmip_dataCESM2-FV2\n",
      "2022-01-25 10:44:36: oggm.shop.gcm_climate: (RGI60-11.02084) process_gcm_dataCESM2-FV2\n"
     ]
    }
   ],
   "source": [
    "REGION=11\n",
    "JOB_NR=2000\n",
    "GEOD_CALIB=True\n",
    "cmip6_path='cmip6_gn'\n",
    "\n",
    "cfg.initialize()\n",
    "cfg.PATHS['working_dir'] = os.path.join('geod_run_CMIP6')\n",
    "utils.mkdir(cfg.PATHS['working_dir'])\n",
    "\n",
    "# Use multiprocessing?\n",
    "cfg.PARAMS['use_multiprocessing'] = True\n",
    "\n",
    "# store model geometry\n",
    "cfg.PARAMS['store_model_geometry'] = True\n",
    "\n",
    "# RGI file\n",
    "path = utils.get_rgi_region_file(REGION, version='61')\n",
    "rgidf = gpd.read_file(path)\n",
    "rgidf = rgidf.sort_values('Area', ascending=True)\n",
    "\n",
    "# exclude non-landterminating glaciers\n",
    "rgidf = rgidf[rgidf.TermType == 0]\n",
    "rgidf = rgidf[rgidf.Connect != 2]\n",
    "\n",
    "if GEOD_CALIB:\n",
    "    cfg.PARAMS['border'] = 240\n",
    "    cfg.PARAMS['climate_qc_months']=0\n",
    "    cfg.PARAMS['hydro_month_nh']=1\n",
    "    cfg.PARAMS['hydro_month_sh']=1\n",
    "\n",
    "    prepro_url = 'https://cluster.klima.uni-bremen.de/~oggm/gdirs/oggm_v1.6/L3-L5_files/CRU/elev_bands/qc0/pcp2.5/match_geod_pergla/'\n",
    "    url = os.path.join(prepro_url, 'RGI62/b_240/L5/summary/')\n",
    "else:\n",
    "    cfg.PARAMS['border'] = 160\n",
    "    prepro_url = 'https://cluster.klima.uni-bremen.de/~oggm/gdirs/oggm_v1.4/L3-L5_files/CRU/elev_bands/qc3/pcp2.5/no_match/'\n",
    "    url = os.path.join(prepro_url, 'RGI62/b_160/L5/summary/')\n",
    "\n",
    "# exculde glaciers that failed during preprocessing\n",
    "fpath = utils.file_downloader(url + f'glacier_statistics_{REGION}.csv')\n",
    "stat = pd.read_csv(fpath, index_col=0, low_memory=False)\n",
    "rgidf = rgidf[~rgidf.RGIId.isin(stat.error_task.dropna().index)].reset_index()\n",
    "\n",
    "#select glacier by JOB_NR\n",
    "rgidf = rgidf.iloc[[JOB_NR]]\n",
    "\n",
    "# Go - initialize glacier directories\n",
    "gdirs = workflow.init_glacier_regions(rgidf, from_prepro_level=5, prepro_base_url=prepro_url)\n",
    "gdir=gdirs[0]\n",
    "# read (reset=False) or process cmip6 data (reset=True)\n",
    "gcm_list = read_cmip6_data(cmip6_path, gdirs, reset=True)"
   ]
  },
  {
   "cell_type": "code",
   "execution_count": 23,
   "id": "3fbf2bf8-0244-4481-8c27-b1831b2bbe02",
   "metadata": {},
   "outputs": [
    {
     "name": "stderr",
     "output_type": "stream",
     "text": [
      "2022-01-25 10:44:40: oggm.core.flowline: (RGI60-11.02084) run_random_climateCMCC-CM2-HR4_1999\n",
      "2022-01-25 10:44:40: oggm.core.flowline: (RGI60-11.02084) flowline_model_runCMCC-CM2-HR4_1999\n"
     ]
    },
    {
     "name": "stdout",
     "output_type": "stream",
     "text": [
      "CMCC-CM2-HR4\n"
     ]
    },
    {
     "name": "stderr",
     "output_type": "stream",
     "text": [
      "2022-01-25 10:44:47: oggm.core.flowline: (RGI60-11.02084) run_random_climateCESM2-FV2_1999\n",
      "2022-01-25 10:44:47: oggm.core.flowline: (RGI60-11.02084) flowline_model_runCESM2-FV2_1999\n"
     ]
    },
    {
     "name": "stdout",
     "output_type": "stream",
     "text": [
      "CESM2-FV2\n"
     ]
    }
   ],
   "source": [
    "for i, gcm in enumerate(gcm_list[1:]):\n",
    "    print(gcm)\n",
    "    if gcm != 'CRU':\n",
    "        climate_filename='gcm_data'\n",
    "        input_suffix=gcm\n",
    "    else:\n",
    "        climate_filename='climate_historical'\n",
    "        input_suffix=None\n",
    "    seed=1\n",
    "    c = xr.open_dataset(gdir.get_filepath(climate_filename, filesuffix=input_suffix))\n",
    "    years =  range(c.time.to_series().iloc[0].year + 16, c.time.to_series().iloc[-1].year - 14)\n",
    "    yr=years[-1]\n",
    "    mod = tasks.run_random_climate(gdir, climate_filename=climate_filename, climate_input_filesuffix=input_suffix, y0=yr,\n",
    "                                             nyears=200, unique_samples=True, output_filesuffix=gcm + '_' + str(yr),\n",
    "                                             seed=seed)"
   ]
  },
  {
   "cell_type": "code",
   "execution_count": null,
   "id": "4cf7fe72-c67c-41fd-b276-37b36366fe7b",
   "metadata": {},
   "outputs": [],
   "source": []
  },
  {
   "cell_type": "code",
   "execution_count": 25,
   "id": "6216ba98-6224-4053-8b59-203ab3103e5b",
   "metadata": {},
   "outputs": [
    {
     "data": {
      "text/plain": [
       "0.008326372431561369"
      ]
     },
     "execution_count": 25,
     "metadata": {},
     "output_type": "execute_result"
    }
   ],
   "source": [
    "mod.volume_km3"
   ]
  }
 ],
 "metadata": {
  "kernelspec": {
   "display_name": "Python 3 (ipykernel)",
   "language": "python",
   "name": "python3"
  },
  "language_info": {
   "codemirror_mode": {
    "name": "ipython",
    "version": 3
   },
   "file_extension": ".py",
   "mimetype": "text/x-python",
   "name": "python",
   "nbconvert_exporter": "python",
   "pygments_lexer": "ipython3",
   "version": "3.9.6"
  }
 },
 "nbformat": 4,
 "nbformat_minor": 5
}
