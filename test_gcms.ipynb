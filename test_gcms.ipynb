{
 "cells": [
  {
   "cell_type": "code",
   "execution_count": null,
   "id": "b359f52a-61e7-4f8c-9eb9-d3fb42b650e9",
   "metadata": {},
   "outputs": [],
   "source": []
  },
  {
   "cell_type": "code",
   "execution_count": 1,
   "id": "3c71db57-2114-4764-8d57-a678d0dad582",
   "metadata": {},
   "outputs": [],
   "source": [
    "import os\n",
    "import xarray as xr\n",
    "import oggm\n",
    "from oggm import utils,cfg, workflow,tasks\n",
    "from oggm.workflow import execute_entity_task\n",
    "import pandas as pd\n",
    "import geopandas as gpd\n",
    "import numpy as np\n",
    "from time import gmtime, strftime\n",
    "from cluster import read_cmip6_data"
   ]
  },
  {
   "cell_type": "code",
   "execution_count": 3,
   "id": "a4a7dc63-26b2-4d94-a770-bf872803bd39",
   "metadata": {},
   "outputs": [],
   "source": [
    "def read_cmip6_data(path, gdirs, reset=False):\n",
    "    l = ['CRU']\n",
    "    for file in os.listdir(os.path.join(path,'tas')):\n",
    "        if file.endswith('.nc'):\n",
    "            name = file.split('_')[0]\n",
    "            suffix = name.split('.')[2]\n",
    "            tas_file = os.path.join(path, 'tas', file)\n",
    "            pr_file = os.path.join(path, 'pr', name + '_pr.nc')\n",
    "            if reset:\n",
    "                try:\n",
    "                    execute_entity_task(tasks.process_cmip_data, gdirs, filesuffix=suffix, fpath_temp=tas_file,\n",
    "                                        fpath_precip=pr_file)\n",
    "                    l.append(suffix)\n",
    "                except:\n",
    "                    print(suffix,'failed')\n",
    "            else:\n",
    "                l.append(suffix)\n",
    "    return l\n"
   ]
  },
  {
   "cell_type": "code",
   "execution_count": 2,
   "id": "88b9fa65-9e30-4203-9232-acc9e2e39303",
   "metadata": {
    "scrolled": true,
    "tags": []
   },
   "outputs": [
    {
     "name": "stderr",
     "output_type": "stream",
     "text": [
      "2022-01-26 12:12:37: oggm.cfg: Reading default parameters from the OGGM `params.cfg` configuration file.\n",
      "2022-01-26 12:12:37: oggm.cfg: Multiprocessing switched OFF according to the parameter file.\n",
      "2022-01-26 12:12:37: oggm.cfg: Multiprocessing: using all available processors (N=32)\n",
      "2022-01-26 12:12:37: oggm.cfg: Multiprocessing switched ON after user settings.\n",
      "2022-01-26 12:12:37: oggm.cfg: PARAMS['store_model_geometry'] changed from `False` to `True`.\n",
      "2022-01-26 12:12:37: oggm.cfg: PARAMS['border'] changed from `40` to `240`.\n",
      "2022-01-26 12:12:37: oggm.cfg: PARAMS['climate_qc_months'] changed from `3` to `0`.\n",
      "2022-01-26 12:12:37: oggm.cfg: PARAMS['hydro_month_nh'] changed from `10` to `1`.\n",
      "2022-01-26 12:12:37: oggm.cfg: PARAMS['hydro_month_sh'] changed from `4` to `1`.\n",
      "2022-01-26 12:12:37: oggm.utils: No known hash for cluster.klima.uni-bremen.de/~oggm/gdirs/oggm_v1.6/L3-L5_files/CRU/elev_bands/qc0/pcp2.5/match_geod_pergla/RGI62/b_240/L5/summary/glacier_statistics_11.csv\n",
      "2022-01-26 12:12:37: oggm.workflow: init_glacier_regions from prepro level 5 on 1 glaciers.\n",
      "2022-01-26 12:12:37: oggm.workflow: Execute entity tasks [gdir_from_prepro] on 1 glaciers\n",
      "2022-01-26 12:12:37: oggm.utils: No known hash for cluster.klima.uni-bremen.de/~oggm/gdirs/oggm_v1.6/L3-L5_files/CRU/elev_bands/qc0/pcp2.5/match_geod_pergla/RGI62/b_240/L5/RGI60-11/RGI60-11.02.tar\n",
      "2022-01-26 12:12:38: oggm.workflow: Execute entity tasks [process_cmip_data] on 1 glaciers\n",
      "2022-01-26 12:12:38: oggm.shop.gcm_climate: (RGI60-11.02084) process_cmip_dataEC-Earth3-CC\n",
      "2022-01-26 12:12:56: oggm.shop.gcm_climate: (RGI60-11.02084) process_gcm_dataEC-Earth3-CC\n",
      "2022-01-26 12:13:18: oggm.workflow: Execute entity tasks [process_cmip_data] on 1 glaciers\n",
      "2022-01-26 12:13:18: oggm.shop.gcm_climate: (RGI60-11.02084) process_cmip_dataE3SM-1-1\n",
      "2022-01-26 12:13:29: oggm.shop.gcm_climate: (RGI60-11.02084) process_gcm_dataE3SM-1-1\n",
      "2022-01-26 12:13:40: oggm.workflow: Execute entity tasks [process_cmip_data] on 1 glaciers\n",
      "2022-01-26 12:13:40: oggm.shop.gcm_climate: (RGI60-11.02084) process_cmip_dataIPSL-CM6A-LR\n",
      "2022-01-26 12:13:42: oggm.shop.gcm_climate: (RGI60-11.02084) process_gcm_dataIPSL-CM6A-LR\n",
      "2022-01-26 12:13:46: oggm.workflow: Execute entity tasks [process_cmip_data] on 1 glaciers\n",
      "2022-01-26 12:13:46: oggm.shop.gcm_climate: (RGI60-11.02084) process_cmip_dataIPSL-CM5A2-INCA\n",
      "2022-01-26 12:13:47: oggm.shop.gcm_climate: (RGI60-11.02084) process_gcm_dataIPSL-CM5A2-INCA\n",
      "2022-01-26 12:13:49: oggm.workflow: Execute entity tasks [process_cmip_data] on 1 glaciers\n",
      "2022-01-26 12:13:49: oggm.shop.gcm_climate: (RGI60-11.02084) process_cmip_dataE3SM-1-1-ECA\n",
      "2022-01-26 12:14:02: oggm.shop.gcm_climate: (RGI60-11.02084) process_gcm_dataE3SM-1-1-ECA\n",
      "2022-01-26 12:14:13: oggm.workflow: Execute entity tasks [process_cmip_data] on 1 glaciers\n",
      "2022-01-26 12:14:13: oggm.shop.gcm_climate: (RGI60-11.02084) process_cmip_dataKACE-1-0-G\n",
      "2022-01-26 12:14:14: oggm.shop.gcm_climate: (RGI60-11.02084) process_gcm_dataKACE-1-0-G\n",
      "2022-01-26 12:14:20: oggm.workflow: Execute entity tasks [process_cmip_data] on 1 glaciers\n",
      "2022-01-26 12:14:20: oggm.shop.gcm_climate: (RGI60-11.02084) process_cmip_dataIPSL-CM6A-LR-INCA\n",
      "2022-01-26 12:14:21: oggm.shop.gcm_climate: (RGI60-11.02084) process_gcm_dataIPSL-CM6A-LR-INCA\n",
      "2022-01-26 12:14:25: oggm.workflow: Execute entity tasks [process_cmip_data] on 1 glaciers\n",
      "2022-01-26 12:14:25: oggm.shop.gcm_climate: (RGI60-11.02084) process_cmip_dataFGOALS-f3-L\n",
      "2022-01-26 12:14:34: oggm.shop.gcm_climate: (RGI60-11.02084) process_gcm_dataFGOALS-f3-L\n",
      "2022-01-26 12:14:45: oggm.workflow: Execute entity tasks [process_cmip_data] on 1 glaciers\n",
      "2022-01-26 12:14:45: oggm.shop.gcm_climate: (RGI60-11.02084) process_cmip_dataEC-Earth3-AerChem\n",
      "2022-01-26 12:15:04: oggm.shop.gcm_climate: (RGI60-11.02084) process_gcm_dataEC-Earth3-AerChem\n",
      "2022-01-26 12:15:25: oggm.workflow: Execute entity tasks [process_cmip_data] on 1 glaciers\n",
      "2022-01-26 12:15:25: oggm.shop.gcm_climate: (RGI60-11.02084) process_cmip_dataE3SM-1-0\n",
      "2022-01-26 12:15:38: oggm.shop.gcm_climate: (RGI60-11.02084) process_gcm_dataE3SM-1-0\n",
      "2022-01-26 12:15:47: oggm.workflow: Execute entity tasks [process_cmip_data] on 1 glaciers\n",
      "2022-01-26 12:15:47: oggm.shop.gcm_climate: (RGI60-11.02084) process_cmip_dataEC-Earth3-Veg-LR\n",
      "2022-01-26 12:15:57: oggm.shop.gcm_climate: (RGI60-11.02084) process_gcm_dataEC-Earth3-Veg-LR\n",
      "2022-01-26 12:16:07: oggm.workflow: Execute entity tasks [process_cmip_data] on 1 glaciers\n",
      "2022-01-26 12:16:07: oggm.shop.gcm_climate: (RGI60-11.02084) process_cmip_dataEC-Earth3\n",
      "2022-01-26 12:16:27: oggm.shop.gcm_climate: (RGI60-11.02084) process_gcm_dataEC-Earth3\n",
      "2022-01-26 12:16:49: oggm.workflow: Execute entity tasks [process_cmip_data] on 1 glaciers\n",
      "2022-01-26 12:16:49: oggm.shop.gcm_climate: (RGI60-11.02084) process_cmip_dataEC-Earth3-Veg\n",
      "2022-01-26 12:17:11: oggm.shop.gcm_climate: (RGI60-11.02084) process_gcm_dataEC-Earth3-Veg\n"
     ]
    },
    {
     "data": {
      "text/plain": [
       "<oggm.GlacierDirectory>\n",
       "  RGI id: RGI60-11.02084\n",
       "  Region: 11: Central Europe\n",
       "  Subregion: 11-01: Alps                            \n",
       "  Glacier type: Glacier\n",
       "  Terminus type: Land-terminating\n",
       "  Status: Glacier or ice cap\n",
       "  Area: 0.08 km2\n",
       "  Lon, Lat: (9.90733, 46.3985)\n",
       "  Grid (nx, ny): (508, 505)\n",
       "  Grid (dx, dy): (14.0, -14.0)"
      ]
     },
     "execution_count": 2,
     "metadata": {},
     "output_type": "execute_result"
    }
   ],
   "source": [
    "REGION=11\n",
    "JOB_NR=2000\n",
    "GEOD_CALIB=True\n",
    "cmip6_path='cmip6_gn'\n",
    "\n",
    "cfg.initialize()\n",
    "cfg.PATHS['working_dir'] = os.path.join('test_cmip6_gn')\n",
    "utils.mkdir(cfg.PATHS['working_dir'])\n",
    "\n",
    "# Use multiprocessing?\n",
    "cfg.PARAMS['use_multiprocessing'] = True\n",
    "\n",
    "# store model geometry\n",
    "cfg.PARAMS['store_model_geometry'] = True\n",
    "\n",
    "# RGI file\n",
    "path = utils.get_rgi_region_file(REGION, version='61')\n",
    "rgidf = gpd.read_file(path)\n",
    "rgidf = rgidf.sort_values('Area', ascending=True)\n",
    "\n",
    "# exclude non-landterminating glaciers\n",
    "rgidf = rgidf[rgidf.TermType == 0]\n",
    "rgidf = rgidf[rgidf.Connect != 2]\n",
    "\n",
    "if GEOD_CALIB:\n",
    "    cfg.PARAMS['border'] = 240\n",
    "    cfg.PARAMS['climate_qc_months']=0\n",
    "    cfg.PARAMS['hydro_month_nh']=1\n",
    "    cfg.PARAMS['hydro_month_sh']=1\n",
    "\n",
    "    prepro_url = 'https://cluster.klima.uni-bremen.de/~oggm/gdirs/oggm_v1.6/L3-L5_files/CRU/elev_bands/qc0/pcp2.5/match_geod_pergla/'\n",
    "    url = os.path.join(prepro_url, 'RGI62/b_240/L5/summary/')\n",
    "else:\n",
    "    cfg.PARAMS['border'] = 160\n",
    "    prepro_url = 'https://cluster.klima.uni-bremen.de/~oggm/gdirs/oggm_v1.4/L3-L5_files/CRU/elev_bands/qc3/pcp2.5/no_match/'\n",
    "    url = os.path.join(prepro_url, 'RGI62/b_160/L5/summary/')\n",
    "\n",
    "# exculde glaciers that failed during preprocessing\n",
    "fpath = utils.file_downloader(url + f'glacier_statistics_{REGION}.csv')\n",
    "stat = pd.read_csv(fpath, index_col=0, low_memory=False)\n",
    "rgidf = rgidf[~rgidf.RGIId.isin(stat.error_task.dropna().index)].reset_index()\n",
    "\n",
    "#select glacier by JOB_NR\n",
    "rgidf = rgidf.iloc[[JOB_NR]]\n",
    "\n",
    "# Go - initialize glacier directories\n",
    "gdirs = workflow.init_glacier_regions(rgidf, from_prepro_level=5, prepro_base_url=prepro_url)\n",
    "gdir=gdirs[0]\n",
    "# read (reset=False) or process cmip6 data (reset=True)\n",
    "gcm_list_gr = read_cmip6_data('cmip6_merge', gdirs, reset=True)\n",
    "gdir"
   ]
  },
  {
   "cell_type": "code",
   "execution_count": 4,
   "id": "fd19101b-02b3-430c-bc8b-661f96809cd7",
   "metadata": {
    "scrolled": true,
    "tags": []
   },
   "outputs": [
    {
     "name": "stderr",
     "output_type": "stream",
     "text": [
      "2022-01-26 12:17:54: oggm.workflow: Execute entity tasks [process_cmip_data] on 1 glaciers\n",
      "2022-01-26 12:17:54: oggm.shop.gcm_climate: (RGI60-11.02084) process_cmip_dataMPI-ESM1-2-HR\n",
      "2022-01-26 12:18:02: oggm.shop.gcm_climate: (RGI60-11.02084) process_gcm_dataMPI-ESM1-2-HR\n",
      "2022-01-26 12:18:02: oggm.workflow: Execute entity tasks [process_cmip_data] on 1 glaciers\n",
      "2022-01-26 12:18:02: oggm.shop.gcm_climate: (RGI60-11.02084) process_cmip_dataACCESS-CM2\n",
      "2022-01-26 12:18:05: oggm.shop.gcm_climate: (RGI60-11.02084) process_gcm_dataACCESS-CM2\n",
      "2022-01-26 12:18:08: oggm.workflow: Execute entity tasks [process_cmip_data] on 1 glaciers\n",
      "2022-01-26 12:18:08: oggm.shop.gcm_climate: (RGI60-11.02084) process_cmip_dataACCESS-ESM1-5\n",
      "2022-01-26 12:18:08: oggm.shop.gcm_climate: (RGI60-11.02084) process_gcm_dataACCESS-ESM1-5\n",
      "2022-01-26 12:18:11: oggm.workflow: Execute entity tasks [process_cmip_data] on 1 glaciers\n",
      "2022-01-26 12:18:11: oggm.shop.gcm_climate: (RGI60-11.02084) process_cmip_dataFIO-ESM-2-0\n",
      "2022-01-26 12:18:14: oggm.shop.gcm_climate: (RGI60-11.02084) process_gcm_dataFIO-ESM-2-0\n",
      "2022-01-26 12:18:18: oggm.workflow: Execute entity tasks [process_cmip_data] on 1 glaciers\n",
      "2022-01-26 12:18:18: oggm.shop.gcm_climate: (RGI60-11.02084) process_cmip_dataCAMS-CSM1-0\n",
      "2022-01-26 12:18:18: oggm.shop.gcm_climate: (RGI60-11.02084) process_gcm_dataCAMS-CSM1-0\n",
      "2022-01-26 12:18:23: oggm.workflow: Execute entity tasks [process_cmip_data] on 1 glaciers\n",
      "2022-01-26 12:18:23: oggm.shop.gcm_climate: (RGI60-11.02084) process_cmip_dataMRI-ESM2-0\n",
      "2022-01-26 12:18:23: oggm.shop.gcm_climate: (RGI60-11.02084) process_gcm_dataMRI-ESM2-0\n",
      "2022-01-26 12:18:23: oggm.workflow: Execute entity tasks [process_cmip_data] on 1 glaciers\n",
      "2022-01-26 12:18:23: oggm.shop.gcm_climate: (RGI60-11.02084) process_cmip_dataTaiESM1\n",
      "2022-01-26 12:18:25: oggm.shop.gcm_climate: (RGI60-11.02084) process_gcm_dataTaiESM1\n",
      "2022-01-26 12:18:27: oggm.workflow: Execute entity tasks [process_cmip_data] on 1 glaciers\n",
      "2022-01-26 12:18:27: oggm.shop.gcm_climate: (RGI60-11.02084) process_cmip_dataCMCC-CM2-SR5\n",
      "2022-01-26 12:18:28: oggm.shop.gcm_climate: (RGI60-11.02084) process_gcm_dataCMCC-CM2-SR5\n",
      "2022-01-26 12:18:29: oggm.workflow: Execute entity tasks [process_cmip_data] on 1 glaciers\n",
      "2022-01-26 12:18:29: oggm.shop.gcm_climate: (RGI60-11.02084) process_cmip_dataAWI-ESM-1-1-LR\n",
      "2022-01-26 12:18:31: oggm.shop.gcm_climate: (RGI60-11.02084) process_gcm_dataAWI-ESM-1-1-LR\n",
      "2022-01-26 12:18:33: oggm.workflow: Execute entity tasks [process_cmip_data] on 1 glaciers\n",
      "2022-01-26 12:18:33: oggm.shop.gcm_climate: (RGI60-11.02084) process_cmip_dataCMCC-CM2-HR4\n",
      "2022-01-26 12:18:41: oggm.shop.gcm_climate: (RGI60-11.02084) process_gcm_dataCMCC-CM2-HR4\n",
      "2022-01-26 12:18:41: oggm.workflow: Execute entity tasks [process_cmip_data] on 1 glaciers\n",
      "2022-01-26 12:18:41: oggm.shop.gcm_climate: (RGI60-11.02084) process_cmip_dataBCC-CSM2-MR\n",
      "2022-01-26 12:18:44: oggm.shop.gcm_climate: (RGI60-11.02084) process_gcm_dataBCC-CSM2-MR\n",
      "2022-01-26 12:18:47: oggm.workflow: Execute entity tasks [process_cmip_data] on 1 glaciers\n",
      "2022-01-26 12:18:47: oggm.shop.gcm_climate: (RGI60-11.02084) process_cmip_dataCESM2-WACCM\n",
      "2022-01-26 12:18:48: oggm.shop.gcm_climate: (RGI60-11.02084) process_gcm_dataCESM2-WACCM\n",
      "2022-01-26 12:18:48: oggm.workflow: Execute entity tasks [process_cmip_data] on 1 glaciers\n",
      "2022-01-26 12:18:48: oggm.shop.gcm_climate: (RGI60-11.02084) process_cmip_dataNorCPM1\n",
      "2022-01-26 12:18:50: oggm.shop.gcm_climate: (RGI60-11.02084) process_gcm_dataNorCPM1\n",
      "2022-01-26 12:18:50: oggm.workflow: Execute entity tasks [process_cmip_data] on 1 glaciers\n",
      "2022-01-26 12:18:50: oggm.shop.gcm_climate: (RGI60-11.02084) process_cmip_dataCESM2-FV2\n",
      "2022-01-26 12:18:50: oggm.shop.gcm_climate: (RGI60-11.02084) process_gcm_dataCESM2-FV2\n",
      "2022-01-26 12:18:51: oggm.workflow: Execute entity tasks [process_cmip_data] on 1 glaciers\n",
      "2022-01-26 12:18:51: oggm.shop.gcm_climate: (RGI60-11.02084) process_cmip_dataNorESM2-LM\n",
      "2022-01-26 12:18:51: oggm.shop.gcm_climate: ValueError occurred during task process_cmip_dataNorESM2-LM on RGI60-11.02084: operands could not be broadcast together with shapes (780,) (1980,) \n",
      "2022-01-26 12:18:51: oggm.workflow: Execute entity tasks [process_cmip_data] on 1 glaciers\n",
      "2022-01-26 12:18:51: oggm.shop.gcm_climate: (RGI60-11.02084) process_cmip_dataMPI-ESM-1-2-HAM\n"
     ]
    },
    {
     "name": "stdout",
     "output_type": "stream",
     "text": [
      "NorESM2-LM failed\n"
     ]
    },
    {
     "name": "stderr",
     "output_type": "stream",
     "text": [
      "2022-01-26 12:18:53: oggm.shop.gcm_climate: (RGI60-11.02084) process_gcm_dataMPI-ESM-1-2-HAM\n",
      "2022-01-26 12:18:55: oggm.workflow: Execute entity tasks [process_cmip_data] on 1 glaciers\n",
      "2022-01-26 12:18:55: oggm.shop.gcm_climate: (RGI60-11.02084) process_cmip_dataNorESM2-MM\n",
      "2022-01-26 12:18:55: oggm.shop.gcm_climate: (RGI60-11.02084) process_gcm_dataNorESM2-MM\n",
      "2022-01-26 12:18:55: oggm.workflow: Execute entity tasks [process_cmip_data] on 1 glaciers\n",
      "2022-01-26 12:18:55: oggm.shop.gcm_climate: (RGI60-11.02084) process_cmip_dataCAS-ESM2-0\n",
      "2022-01-26 12:18:58: oggm.shop.gcm_climate: (RGI60-11.02084) process_gcm_dataCAS-ESM2-0\n",
      "2022-01-26 12:19:02: oggm.workflow: Execute entity tasks [process_cmip_data] on 1 glaciers\n",
      "2022-01-26 12:19:02: oggm.shop.gcm_climate: (RGI60-11.02084) process_cmip_dataFGOALS-g3\n",
      "2022-01-26 12:19:04: oggm.shop.gcm_climate: (RGI60-11.02084) process_gcm_dataFGOALS-g3\n",
      "2022-01-26 12:19:06: oggm.workflow: Execute entity tasks [process_cmip_data] on 1 glaciers\n",
      "2022-01-26 12:19:06: oggm.shop.gcm_climate: (RGI60-11.02084) process_cmip_dataCESM2-WACCM-FV2\n",
      "2022-01-26 12:19:08: oggm.shop.gcm_climate: (RGI60-11.02084) process_gcm_dataCESM2-WACCM-FV2\n",
      "2022-01-26 12:19:09: oggm.workflow: Execute entity tasks [process_cmip_data] on 1 glaciers\n",
      "2022-01-26 12:19:09: oggm.shop.gcm_climate: (RGI60-11.02084) process_cmip_dataGISS-E2-2-H\n",
      "2022-01-26 12:19:10: oggm.shop.gcm_climate: (RGI60-11.02084) process_gcm_dataGISS-E2-2-H\n",
      "2022-01-26 12:19:11: oggm.workflow: Execute entity tasks [process_cmip_data] on 1 glaciers\n",
      "2022-01-26 12:19:11: oggm.shop.gcm_climate: (RGI60-11.02084) process_cmip_dataNESM3\n",
      "2022-01-26 12:19:11: oggm.shop.gcm_climate: (RGI60-11.02084) process_gcm_dataNESM3\n",
      "2022-01-26 12:19:12: oggm.workflow: Execute entity tasks [process_cmip_data] on 1 glaciers\n",
      "2022-01-26 12:19:12: oggm.shop.gcm_climate: (RGI60-11.02084) process_cmip_dataSAM0-UNICON\n",
      "2022-01-26 12:19:12: oggm.shop.gcm_climate: (RGI60-11.02084) process_gcm_dataSAM0-UNICON\n",
      "2022-01-26 12:19:12: oggm.workflow: Execute entity tasks [process_cmip_data] on 1 glaciers\n",
      "2022-01-26 12:19:12: oggm.shop.gcm_climate: (RGI60-11.02084) process_cmip_dataIITM-ESM\n",
      "2022-01-26 12:19:13: oggm.shop.gcm_climate: (RGI60-11.02084) process_gcm_dataIITM-ESM\n",
      "2022-01-26 12:19:13: oggm.workflow: Execute entity tasks [process_cmip_data] on 1 glaciers\n",
      "2022-01-26 12:19:13: oggm.shop.gcm_climate: (RGI60-11.02084) process_cmip_dataGISS-E2-1-G-CC\n",
      "2022-01-26 12:19:13: oggm.shop.gcm_climate: (RGI60-11.02084) process_gcm_dataGISS-E2-1-G-CC\n",
      "2022-01-26 12:19:14: oggm.workflow: Execute entity tasks [process_cmip_data] on 1 glaciers\n",
      "2022-01-26 12:19:14: oggm.shop.gcm_climate: (RGI60-11.02084) process_cmip_dataGISS-E2-1-H\n",
      "2022-01-26 12:19:14: oggm.shop.gcm_climate: (RGI60-11.02084) process_gcm_dataGISS-E2-1-H\n",
      "2022-01-26 12:19:14: oggm.workflow: Execute entity tasks [process_cmip_data] on 1 glaciers\n",
      "2022-01-26 12:19:14: oggm.shop.gcm_climate: (RGI60-11.02084) process_cmip_dataICON-ESM-LR\n",
      "2022-01-26 12:19:14: oggm.shop.gcm_climate: AttributeError occurred during task process_cmip_dataICON-ESM-LR on RGI60-11.02084: 'Dataset' object has no attribute 'lon'\n",
      "2022-01-26 12:19:14: oggm.workflow: Execute entity tasks [process_cmip_data] on 1 glaciers\n",
      "2022-01-26 12:19:14: oggm.shop.gcm_climate: (RGI60-11.02084) process_cmip_dataAWI-CM-1-1-MR\n"
     ]
    },
    {
     "name": "stdout",
     "output_type": "stream",
     "text": [
      "ICON-ESM-LR failed\n"
     ]
    },
    {
     "name": "stderr",
     "output_type": "stream",
     "text": [
      "2022-01-26 12:19:17: oggm.shop.gcm_climate: ValueError occurred during task process_cmip_dataAWI-CM-1-1-MR on RGI60-11.02084: operands could not be broadcast together with shapes (1980,) (1968,) \n",
      "2022-01-26 12:19:17: oggm.workflow: Execute entity tasks [process_cmip_data] on 1 glaciers\n",
      "2022-01-26 12:19:17: oggm.shop.gcm_climate: (RGI60-11.02084) process_cmip_dataMPI-ESM1-2-LR\n"
     ]
    },
    {
     "name": "stdout",
     "output_type": "stream",
     "text": [
      "AWI-CM-1-1-MR failed\n"
     ]
    },
    {
     "name": "stderr",
     "output_type": "stream",
     "text": [
      "2022-01-26 12:19:18: oggm.shop.gcm_climate: (RGI60-11.02084) process_gcm_dataMPI-ESM1-2-LR\n",
      "2022-01-26 12:19:18: oggm.workflow: Execute entity tasks [process_cmip_data] on 1 glaciers\n",
      "2022-01-26 12:19:18: oggm.shop.gcm_climate: (RGI60-11.02084) process_cmip_dataMIROC6\n",
      "2022-01-26 12:19:18: oggm.shop.gcm_climate: (RGI60-11.02084) process_gcm_dataMIROC6\n",
      "2022-01-26 12:19:19: oggm.workflow: Execute entity tasks [process_cmip_data] on 1 glaciers\n",
      "2022-01-26 12:19:19: oggm.shop.gcm_climate: (RGI60-11.02084) process_cmip_dataCMCC-ESM2\n",
      "2022-01-26 12:19:19: oggm.shop.gcm_climate: (RGI60-11.02084) process_gcm_dataCMCC-ESM2\n",
      "2022-01-26 12:19:19: oggm.workflow: Execute entity tasks [process_cmip_data] on 1 glaciers\n",
      "2022-01-26 12:19:19: oggm.shop.gcm_climate: (RGI60-11.02084) process_cmip_dataCESM2\n",
      "2022-01-26 12:19:20: oggm.shop.gcm_climate: (RGI60-11.02084) process_gcm_dataCESM2\n",
      "2022-01-26 12:19:20: oggm.workflow: Execute entity tasks [process_cmip_data] on 1 glaciers\n",
      "2022-01-26 12:19:20: oggm.shop.gcm_climate: (RGI60-11.02084) process_cmip_dataCanESM5\n",
      "2022-01-26 12:19:21: oggm.shop.gcm_climate: (RGI60-11.02084) process_gcm_dataCanESM5\n",
      "2022-01-26 12:19:21: oggm.workflow: Execute entity tasks [process_cmip_data] on 1 glaciers\n",
      "2022-01-26 12:19:21: oggm.shop.gcm_climate: (RGI60-11.02084) process_cmip_dataBCC-ESM1\n",
      "2022-01-26 12:19:21: oggm.shop.gcm_climate: (RGI60-11.02084) process_gcm_dataBCC-ESM1\n",
      "2022-01-26 12:19:21: oggm.workflow: Execute entity tasks [process_cmip_data] on 1 glaciers\n",
      "2022-01-26 12:19:21: oggm.shop.gcm_climate: (RGI60-11.02084) process_cmip_dataGISS-E2-1-G\n",
      "2022-01-26 12:19:22: oggm.shop.gcm_climate: (RGI60-11.02084) process_gcm_dataGISS-E2-1-G\n"
     ]
    }
   ],
   "source": [
    "gcm_list_gn = read_cmip6_data(cmip6_path,gdirs,reset=True)"
   ]
  },
  {
   "cell_type": "code",
   "execution_count": 8,
   "id": "3fbf2bf8-0244-4481-8c27-b1831b2bbe02",
   "metadata": {
    "scrolled": true,
    "tags": []
   },
   "outputs": [
    {
     "name": "stderr",
     "output_type": "stream",
     "text": [
      "2022-01-25 15:59:15: oggm.core.flowline: (RGI60-11.02084) run_random_climateMPI-ESM1-2-HR_2019\n",
      "2022-01-25 15:59:15: oggm.core.flowline: (RGI60-11.02084) flowline_model_runMPI-ESM1-2-HR_2019\n"
     ]
    },
    {
     "name": "stdout",
     "output_type": "stream",
     "text": [
      "MPI-ESM1-2-HR\n"
     ]
    },
    {
     "name": "stderr",
     "output_type": "stream",
     "text": [
      "2022-01-25 15:59:19: oggm.core.flowline: (RGI60-11.02084) run_random_climateACCESS-CM2_2019\n",
      "2022-01-25 15:59:19: oggm.core.flowline: (RGI60-11.02084) flowline_model_runACCESS-CM2_2019\n"
     ]
    },
    {
     "name": "stdout",
     "output_type": "stream",
     "text": [
      "ACCESS-CM2\n"
     ]
    },
    {
     "name": "stderr",
     "output_type": "stream",
     "text": [
      "2022-01-25 15:59:23: oggm.core.flowline: (RGI60-11.02084) run_random_climateACCESS-ESM1-5_1999\n",
      "2022-01-25 15:59:23: oggm.core.flowline: (RGI60-11.02084) flowline_model_runACCESS-ESM1-5_1999\n"
     ]
    },
    {
     "name": "stdout",
     "output_type": "stream",
     "text": [
      "ACCESS-ESM1-5\n"
     ]
    },
    {
     "name": "stderr",
     "output_type": "stream",
     "text": [
      "2022-01-25 15:59:27: oggm.core.flowline: (RGI60-11.02084) run_random_climateFIO-ESM-2-0_2019\n",
      "2022-01-25 15:59:28: oggm.core.flowline: (RGI60-11.02084) flowline_model_runFIO-ESM-2-0_2019\n"
     ]
    },
    {
     "name": "stdout",
     "output_type": "stream",
     "text": [
      "FIO-ESM-2-0\n"
     ]
    },
    {
     "name": "stderr",
     "output_type": "stream",
     "text": [
      "2022-01-25 15:59:31: oggm.core.flowline: (RGI60-11.02084) run_random_climateCAMS-CSM1-0_2019\n",
      "2022-01-25 15:59:32: oggm.core.flowline: (RGI60-11.02084) flowline_model_runCAMS-CSM1-0_2019\n"
     ]
    },
    {
     "name": "stdout",
     "output_type": "stream",
     "text": [
      "CAMS-CSM1-0\n"
     ]
    },
    {
     "name": "stderr",
     "output_type": "stream",
     "text": [
      "2022-01-25 15:59:37: oggm.core.flowline: (RGI60-11.02084) run_random_climateMRI-ESM2-0_2019\n",
      "2022-01-25 15:59:37: oggm.core.flowline: (RGI60-11.02084) flowline_model_runMRI-ESM2-0_2019\n"
     ]
    },
    {
     "name": "stdout",
     "output_type": "stream",
     "text": [
      "MRI-ESM2-0\n"
     ]
    },
    {
     "name": "stderr",
     "output_type": "stream",
     "text": [
      "2022-01-25 15:59:40: oggm.core.flowline: (RGI60-11.02084) run_random_climateTaiESM1_2019\n",
      "2022-01-25 15:59:40: oggm.core.flowline: (RGI60-11.02084) flowline_model_runTaiESM1_2019\n"
     ]
    },
    {
     "name": "stdout",
     "output_type": "stream",
     "text": [
      "TaiESM1\n"
     ]
    },
    {
     "name": "stderr",
     "output_type": "stream",
     "text": [
      "2022-01-25 15:59:44: oggm.core.flowline: (RGI60-11.02084) run_random_climateCMCC-CM2-SR5_2019\n",
      "2022-01-25 15:59:44: oggm.core.flowline: (RGI60-11.02084) flowline_model_runCMCC-CM2-SR5_2019\n"
     ]
    },
    {
     "name": "stdout",
     "output_type": "stream",
     "text": [
      "CMCC-CM2-SR5\n"
     ]
    },
    {
     "name": "stderr",
     "output_type": "stream",
     "text": [
      "2022-01-25 15:59:48: oggm.core.flowline: (RGI60-11.02084) run_random_climateAWI-ESM-1-1-LR_1999\n",
      "2022-01-25 15:59:48: oggm.core.flowline: (RGI60-11.02084) flowline_model_runAWI-ESM-1-1-LR_1999\n"
     ]
    },
    {
     "name": "stdout",
     "output_type": "stream",
     "text": [
      "AWI-ESM-1-1-LR\n"
     ]
    },
    {
     "name": "stderr",
     "output_type": "stream",
     "text": [
      "2022-01-25 15:59:54: oggm.core.flowline: (RGI60-11.02084) run_random_climateCMCC-CM2-HR4_1999\n",
      "2022-01-25 15:59:54: oggm.core.flowline: (RGI60-11.02084) flowline_model_runCMCC-CM2-HR4_1999\n"
     ]
    },
    {
     "name": "stdout",
     "output_type": "stream",
     "text": [
      "CMCC-CM2-HR4\n"
     ]
    },
    {
     "name": "stderr",
     "output_type": "stream",
     "text": [
      "2022-01-25 15:59:58: oggm.core.flowline: (RGI60-11.02084) run_random_climateBCC-CSM2-MR_2019\n",
      "2022-01-25 15:59:59: oggm.core.flowline: (RGI60-11.02084) flowline_model_runBCC-CSM2-MR_2019\n"
     ]
    },
    {
     "name": "stdout",
     "output_type": "stream",
     "text": [
      "BCC-CSM2-MR\n"
     ]
    },
    {
     "name": "stderr",
     "output_type": "stream",
     "text": [
      "2022-01-25 16:00:02: oggm.core.flowline: (RGI60-11.02084) run_random_climateCESM2-WACCM_1999\n",
      "2022-01-25 16:00:03: oggm.core.flowline: (RGI60-11.02084) flowline_model_runCESM2-WACCM_1999\n"
     ]
    },
    {
     "name": "stdout",
     "output_type": "stream",
     "text": [
      "CESM2-WACCM\n"
     ]
    },
    {
     "name": "stderr",
     "output_type": "stream",
     "text": [
      "2022-01-25 16:00:07: oggm.core.flowline: (RGI60-11.02084) run_random_climateNorCPM1_1999\n",
      "2022-01-25 16:00:07: oggm.core.flowline: (RGI60-11.02084) flowline_model_runNorCPM1_1999\n"
     ]
    },
    {
     "name": "stdout",
     "output_type": "stream",
     "text": [
      "NorCPM1\n"
     ]
    },
    {
     "name": "stderr",
     "output_type": "stream",
     "text": [
      "2022-01-25 16:00:12: oggm.core.flowline: (RGI60-11.02084) run_random_climateCESM2-FV2_1999\n",
      "2022-01-25 16:00:12: oggm.core.flowline: (RGI60-11.02084) flowline_model_runCESM2-FV2_1999\n"
     ]
    },
    {
     "name": "stdout",
     "output_type": "stream",
     "text": [
      "CESM2-FV2\n"
     ]
    },
    {
     "name": "stderr",
     "output_type": "stream",
     "text": [
      "2022-01-25 16:00:17: oggm.core.flowline: (RGI60-11.02084) run_random_climateMPI-ESM-1-2-HAM_1999\n",
      "2022-01-25 16:00:17: oggm.core.flowline: (RGI60-11.02084) flowline_model_runMPI-ESM-1-2-HAM_1999\n"
     ]
    },
    {
     "name": "stdout",
     "output_type": "stream",
     "text": [
      "NorESM2-LM\n",
      "NorESM2-LM failed\n",
      "MPI-ESM-1-2-HAM\n"
     ]
    },
    {
     "name": "stderr",
     "output_type": "stream",
     "text": [
      "2022-01-25 16:00:22: oggm.core.flowline: (RGI60-11.02084) run_random_climateNorESM2-MM_2019\n",
      "2022-01-25 16:00:22: oggm.core.flowline: (RGI60-11.02084) flowline_model_runNorESM2-MM_2019\n"
     ]
    },
    {
     "name": "stdout",
     "output_type": "stream",
     "text": [
      "NorESM2-MM\n"
     ]
    },
    {
     "name": "stderr",
     "output_type": "stream",
     "text": [
      "2022-01-25 16:00:26: oggm.core.flowline: (RGI60-11.02084) run_random_climateCAS-ESM2-0_2019\n",
      "2022-01-25 16:00:26: oggm.core.flowline: (RGI60-11.02084) flowline_model_runCAS-ESM2-0_2019\n"
     ]
    },
    {
     "name": "stdout",
     "output_type": "stream",
     "text": [
      "CAS-ESM2-0\n"
     ]
    },
    {
     "name": "stderr",
     "output_type": "stream",
     "text": [
      "2022-01-25 16:00:29: oggm.core.flowline: (RGI60-11.02084) run_random_climateFGOALS-g3_2001\n",
      "2022-01-25 16:00:29: oggm.core.flowline: (RGI60-11.02084) flowline_model_runFGOALS-g3_2001\n"
     ]
    },
    {
     "name": "stdout",
     "output_type": "stream",
     "text": [
      "FGOALS-g3\n"
     ]
    },
    {
     "name": "stderr",
     "output_type": "stream",
     "text": [
      "2022-01-25 16:00:35: oggm.core.flowline: (RGI60-11.02084) run_random_climateCESM2-WACCM-FV2_1999\n",
      "2022-01-25 16:00:35: oggm.core.flowline: (RGI60-11.02084) flowline_model_runCESM2-WACCM-FV2_1999\n"
     ]
    },
    {
     "name": "stdout",
     "output_type": "stream",
     "text": [
      "CESM2-WACCM-FV2\n"
     ]
    },
    {
     "name": "stderr",
     "output_type": "stream",
     "text": [
      "2022-01-25 16:00:39: oggm.core.flowline: (RGI60-11.02084) run_random_climateGISS-E2-2-H_1999\n",
      "2022-01-25 16:00:39: oggm.core.flowline: (RGI60-11.02084) flowline_model_runGISS-E2-2-H_1999\n"
     ]
    },
    {
     "name": "stdout",
     "output_type": "stream",
     "text": [
      "GISS-E2-2-H\n"
     ]
    },
    {
     "name": "stderr",
     "output_type": "stream",
     "text": [
      "2022-01-25 16:00:45: oggm.core.flowline: (RGI60-11.02084) run_random_climateNESM3_2019\n",
      "2022-01-25 16:00:45: oggm.core.flowline: (RGI60-11.02084) flowline_model_runNESM3_2019\n"
     ]
    },
    {
     "name": "stdout",
     "output_type": "stream",
     "text": [
      "NESM3\n"
     ]
    },
    {
     "name": "stderr",
     "output_type": "stream",
     "text": [
      "2022-01-25 16:00:46: oggm.core.flowline: (RGI60-11.02084) run_random_climateSAM0-UNICON_1999\n",
      "2022-01-25 16:00:46: oggm.core.flowline: (RGI60-11.02084) flowline_model_runSAM0-UNICON_1999\n"
     ]
    },
    {
     "name": "stdout",
     "output_type": "stream",
     "text": [
      "SAM0-UNICON\n"
     ]
    },
    {
     "name": "stderr",
     "output_type": "stream",
     "text": [
      "2022-01-25 16:00:51: oggm.core.flowline: (RGI60-11.02084) run_random_climateIITM-ESM_2019\n",
      "2022-01-25 16:00:51: oggm.core.flowline: (RGI60-11.02084) flowline_model_runIITM-ESM_2019\n"
     ]
    },
    {
     "name": "stdout",
     "output_type": "stream",
     "text": [
      "IITM-ESM\n"
     ]
    },
    {
     "name": "stderr",
     "output_type": "stream",
     "text": [
      "2022-01-25 16:00:57: oggm.core.flowline: (RGI60-11.02084) run_random_climateGISS-E2-1-G-CC_1999\n",
      "2022-01-25 16:00:57: oggm.core.flowline: (RGI60-11.02084) flowline_model_runGISS-E2-1-G-CC_1999\n"
     ]
    },
    {
     "name": "stdout",
     "output_type": "stream",
     "text": [
      "GISS-E2-1-G-CC\n"
     ]
    },
    {
     "name": "stderr",
     "output_type": "stream",
     "text": [
      "2022-01-25 16:01:01: oggm.core.flowline: (RGI60-11.02084) run_random_climateGISS-E2-1-H_1999\n",
      "2022-01-25 16:01:01: oggm.core.flowline: (RGI60-11.02084) flowline_model_runGISS-E2-1-H_1999\n"
     ]
    },
    {
     "name": "stdout",
     "output_type": "stream",
     "text": [
      "GISS-E2-1-H\n"
     ]
    },
    {
     "name": "stderr",
     "output_type": "stream",
     "text": [
      "2022-01-25 16:01:06: oggm.core.flowline: (RGI60-11.02084) run_random_climateMPI-ESM1-2-LR_1999\n",
      "2022-01-25 16:01:06: oggm.core.flowline: (RGI60-11.02084) flowline_model_runMPI-ESM1-2-LR_1999\n"
     ]
    },
    {
     "name": "stdout",
     "output_type": "stream",
     "text": [
      "ICON-ESM-LR\n",
      "ICON-ESM-LR failed\n",
      "AWI-CM-1-1-MR\n",
      "AWI-CM-1-1-MR failed\n",
      "MPI-ESM1-2-LR\n"
     ]
    },
    {
     "name": "stderr",
     "output_type": "stream",
     "text": [
      "2022-01-25 16:01:11: oggm.core.flowline: (RGI60-11.02084) run_random_climateMIROC6_2019\n",
      "2022-01-25 16:01:11: oggm.core.flowline: (RGI60-11.02084) flowline_model_runMIROC6_2019\n"
     ]
    },
    {
     "name": "stdout",
     "output_type": "stream",
     "text": [
      "MIROC6\n"
     ]
    },
    {
     "name": "stderr",
     "output_type": "stream",
     "text": [
      "2022-01-25 16:01:15: oggm.core.flowline: (RGI60-11.02084) run_random_climateCMCC-ESM2_2019\n",
      "2022-01-25 16:01:15: oggm.core.flowline: (RGI60-11.02084) flowline_model_runCMCC-ESM2_2019\n"
     ]
    },
    {
     "name": "stdout",
     "output_type": "stream",
     "text": [
      "CMCC-ESM2\n"
     ]
    },
    {
     "name": "stderr",
     "output_type": "stream",
     "text": [
      "2022-01-25 16:01:19: oggm.core.flowline: (RGI60-11.02084) run_random_climateCESM2_1999\n",
      "2022-01-25 16:01:19: oggm.core.flowline: (RGI60-11.02084) flowline_model_runCESM2_1999\n"
     ]
    },
    {
     "name": "stdout",
     "output_type": "stream",
     "text": [
      "CESM2\n"
     ]
    },
    {
     "name": "stderr",
     "output_type": "stream",
     "text": [
      "2022-01-25 16:01:24: oggm.core.flowline: (RGI60-11.02084) run_random_climateCanESM5_2019\n",
      "2022-01-25 16:01:24: oggm.core.flowline: (RGI60-11.02084) flowline_model_runCanESM5_2019\n"
     ]
    },
    {
     "name": "stdout",
     "output_type": "stream",
     "text": [
      "CanESM5\n"
     ]
    },
    {
     "name": "stderr",
     "output_type": "stream",
     "text": [
      "2022-01-25 16:01:27: oggm.core.flowline: (RGI60-11.02084) run_random_climateBCC-ESM1_1999\n",
      "2022-01-25 16:01:27: oggm.core.flowline: (RGI60-11.02084) flowline_model_runBCC-ESM1_1999\n"
     ]
    },
    {
     "name": "stdout",
     "output_type": "stream",
     "text": [
      "BCC-ESM1\n"
     ]
    },
    {
     "name": "stderr",
     "output_type": "stream",
     "text": [
      "2022-01-25 16:01:32: oggm.core.flowline: (RGI60-11.02084) run_random_climateGISS-E2-1-G_1999\n",
      "2022-01-25 16:01:32: oggm.core.flowline: (RGI60-11.02084) flowline_model_runGISS-E2-1-G_1999\n"
     ]
    },
    {
     "name": "stdout",
     "output_type": "stream",
     "text": [
      "GISS-E2-1-G\n"
     ]
    }
   ],
   "source": [
    "for i, gcm in enumerate(gcm_list[1:]):\n",
    "    print(gcm)\n",
    "    if gcm != 'CRU':\n",
    "        climate_filename='gcm_data'\n",
    "        input_suffix=gcm\n",
    "    else:\n",
    "        climate_filename='climate_historical'\n",
    "        input_suffix=None\n",
    "    seed=1\n",
    "    try:\n",
    "        c = xr.open_dataset(gdir.get_filepath(climate_filename, filesuffix=input_suffix))\n",
    "        years =  range(c.time.to_series().iloc[0].year + 16, c.time.to_series().iloc[-1].year - 14)\n",
    "        yr=years[-1]\n",
    "        mod = tasks.run_random_climate(gdir, climate_filename=climate_filename, climate_input_filesuffix=input_suffix, y0=yr,\n",
    "                                                 nyears=200, unique_samples=True, output_filesuffix=gcm + '_' + str(yr),\n",
    "                                                 seed=seed)\n",
    "    except:\n",
    "        print(gcm,'failed')"
   ]
  },
  {
   "cell_type": "code",
   "execution_count": null,
   "id": "4cf7fe72-c67c-41fd-b276-37b36366fe7b",
   "metadata": {},
   "outputs": [],
   "source": []
  },
  {
   "cell_type": "code",
   "execution_count": 7,
   "id": "6216ba98-6224-4053-8b59-203ab3103e5b",
   "metadata": {},
   "outputs": [],
   "source": [
    "def analyze_cmip6_data(path, gdirs):\n",
    "    df = pd.DataFrame()\n",
    "    for file in os.listdir(os.path.join(path,'tas')):\n",
    "        if file.endswith('.nc'):\n",
    "            name = file.split('_')[0]\n",
    "            suffix = name.split('.')[2]\n",
    "            tas_file = os.path.join(path, 'tas', file)\n",
    "            pr_file = os.path.join(path, 'pr', name + '_pr.nc')\n",
    "            ds = xr.open_dataset(tas_file)\n",
    "            try:\n",
    "\n",
    "                df = df.append({'institution_id':name.split('.')[1],\n",
    "                                'source_id':name.split('.')[2],\n",
    "                                'grid':name.split('.')[-1],\n",
    "                                'realization':'r1i1p1f1',\n",
    "                                r'No. of grids (Lat x Lon)':str(int(ds.dims['lat']))+' x '+ str(int(ds.dims['lon'])),\n",
    "                                }, ignore_index=True)\n",
    "            except:\n",
    "                df = df.append({'institution_id':name.split('.')[1],\n",
    "                                'source_id':name.split('.')[2],\n",
    "                                'grid':'gn',\n",
    "                                'realization':'r1i1p1f1'}, ignore_index=True)\n",
    "    return df "
   ]
  },
  {
   "cell_type": "code",
   "execution_count": 8,
   "id": "c0d7213c-aeea-4b58-9556-a0a55d005cdf",
   "metadata": {},
   "outputs": [],
   "source": [
    "df_gn =analyze_cmip6_data(cmip6_path, gdirs)"
   ]
  },
  {
   "cell_type": "code",
   "execution_count": 9,
   "id": "ed102601-72ea-48fb-8618-f745bdad1533",
   "metadata": {},
   "outputs": [],
   "source": [
    "df_gr = analyze_cmip6_data('cmip6_merge', gdirs)"
   ]
  },
  {
   "cell_type": "code",
   "execution_count": 19,
   "id": "89f93866-f26e-4683-bf38-b6e566ebd4b0",
   "metadata": {},
   "outputs": [],
   "source": [
    "df = df_gn.append(df_gr,ignore_index=True).sort_values(by='institution_id').reset_index(drop=True)"
   ]
  },
  {
   "cell_type": "code",
   "execution_count": 20,
   "id": "09114023-f2bf-4da4-95c4-5e5a9621b35c",
   "metadata": {},
   "outputs": [
    {
     "data": {
      "text/html": [
       "<div>\n",
       "<style scoped>\n",
       "    .dataframe tbody tr th:only-of-type {\n",
       "        vertical-align: middle;\n",
       "    }\n",
       "\n",
       "    .dataframe tbody tr th {\n",
       "        vertical-align: top;\n",
       "    }\n",
       "\n",
       "    .dataframe thead th {\n",
       "        text-align: right;\n",
       "    }\n",
       "</style>\n",
       "<table border=\"1\" class=\"dataframe\">\n",
       "  <thead>\n",
       "    <tr style=\"text-align: right;\">\n",
       "      <th></th>\n",
       "      <th>institution_id</th>\n",
       "      <th>source_id</th>\n",
       "      <th>grid</th>\n",
       "      <th>realization</th>\n",
       "      <th>No. of grids (Lat x Lon)</th>\n",
       "    </tr>\n",
       "  </thead>\n",
       "  <tbody>\n",
       "    <tr>\n",
       "      <th>0</th>\n",
       "      <td>AS-RCEC</td>\n",
       "      <td>TaiESM1</td>\n",
       "      <td>gn</td>\n",
       "      <td>r1i1p1f1</td>\n",
       "      <td>192 x 288</td>\n",
       "    </tr>\n",
       "    <tr>\n",
       "      <th>1</th>\n",
       "      <td>AWI</td>\n",
       "      <td>AWI-CM-1-1-MR</td>\n",
       "      <td>gn</td>\n",
       "      <td>r1i1p1f1</td>\n",
       "      <td>192 x 384</td>\n",
       "    </tr>\n",
       "    <tr>\n",
       "      <th>2</th>\n",
       "      <td>AWI</td>\n",
       "      <td>AWI-ESM-1-1-LR</td>\n",
       "      <td>gn</td>\n",
       "      <td>r1i1p1f1</td>\n",
       "      <td>96 x 192</td>\n",
       "    </tr>\n",
       "    <tr>\n",
       "      <th>3</th>\n",
       "      <td>BCC</td>\n",
       "      <td>BCC-ESM1</td>\n",
       "      <td>gn</td>\n",
       "      <td>r1i1p1f1</td>\n",
       "      <td>64 x 128</td>\n",
       "    </tr>\n",
       "    <tr>\n",
       "      <th>4</th>\n",
       "      <td>BCC</td>\n",
       "      <td>BCC-CSM2-MR</td>\n",
       "      <td>gn</td>\n",
       "      <td>r1i1p1f1</td>\n",
       "      <td>160 x 320</td>\n",
       "    </tr>\n",
       "    <tr>\n",
       "      <th>5</th>\n",
       "      <td>CAMS</td>\n",
       "      <td>CAMS-CSM1-0</td>\n",
       "      <td>gn</td>\n",
       "      <td>r1i1p1f1</td>\n",
       "      <td>160 x 320</td>\n",
       "    </tr>\n",
       "    <tr>\n",
       "      <th>6</th>\n",
       "      <td>CAS</td>\n",
       "      <td>FGOALS-g3</td>\n",
       "      <td>gn</td>\n",
       "      <td>r1i1p1f1</td>\n",
       "      <td>80 x 180</td>\n",
       "    </tr>\n",
       "    <tr>\n",
       "      <th>7</th>\n",
       "      <td>CAS</td>\n",
       "      <td>FGOALS-f3-L</td>\n",
       "      <td>gr</td>\n",
       "      <td>r1i1p1f1</td>\n",
       "      <td>180 x 288</td>\n",
       "    </tr>\n",
       "    <tr>\n",
       "      <th>8</th>\n",
       "      <td>CAS</td>\n",
       "      <td>CAS-ESM2-0</td>\n",
       "      <td>gn</td>\n",
       "      <td>r1i1p1f1</td>\n",
       "      <td>128 x 256</td>\n",
       "    </tr>\n",
       "    <tr>\n",
       "      <th>9</th>\n",
       "      <td>CCCR-IITM</td>\n",
       "      <td>IITM-ESM</td>\n",
       "      <td>gn</td>\n",
       "      <td>r1i1p1f1</td>\n",
       "      <td>94 x 192</td>\n",
       "    </tr>\n",
       "    <tr>\n",
       "      <th>10</th>\n",
       "      <td>CCCma</td>\n",
       "      <td>CanESM5</td>\n",
       "      <td>gn</td>\n",
       "      <td>r1i1p1f1</td>\n",
       "      <td>64 x 128</td>\n",
       "    </tr>\n",
       "    <tr>\n",
       "      <th>11</th>\n",
       "      <td>CMCC</td>\n",
       "      <td>CMCC-ESM2</td>\n",
       "      <td>gn</td>\n",
       "      <td>r1i1p1f1</td>\n",
       "      <td>192 x 288</td>\n",
       "    </tr>\n",
       "    <tr>\n",
       "      <th>12</th>\n",
       "      <td>CMCC</td>\n",
       "      <td>CMCC-CM2-SR5</td>\n",
       "      <td>gn</td>\n",
       "      <td>r1i1p1f1</td>\n",
       "      <td>192 x 288</td>\n",
       "    </tr>\n",
       "    <tr>\n",
       "      <th>13</th>\n",
       "      <td>CMCC</td>\n",
       "      <td>CMCC-CM2-HR4</td>\n",
       "      <td>gn</td>\n",
       "      <td>r1i1p1f1</td>\n",
       "      <td>192 x 288</td>\n",
       "    </tr>\n",
       "    <tr>\n",
       "      <th>14</th>\n",
       "      <td>CSIRO</td>\n",
       "      <td>ACCESS-ESM1-5</td>\n",
       "      <td>gn</td>\n",
       "      <td>r1i1p1f1</td>\n",
       "      <td>145 x 192</td>\n",
       "    </tr>\n",
       "    <tr>\n",
       "      <th>15</th>\n",
       "      <td>CSIRO-ARCCSS</td>\n",
       "      <td>ACCESS-CM2</td>\n",
       "      <td>gn</td>\n",
       "      <td>r1i1p1f1</td>\n",
       "      <td>144 x 192</td>\n",
       "    </tr>\n",
       "    <tr>\n",
       "      <th>16</th>\n",
       "      <td>E3SM-Project</td>\n",
       "      <td>E3SM-1-0</td>\n",
       "      <td>gr</td>\n",
       "      <td>r1i1p1f1</td>\n",
       "      <td>180 x 360</td>\n",
       "    </tr>\n",
       "    <tr>\n",
       "      <th>17</th>\n",
       "      <td>E3SM-Project</td>\n",
       "      <td>E3SM-1-1-ECA</td>\n",
       "      <td>gr</td>\n",
       "      <td>r1i1p1f1</td>\n",
       "      <td>180 x 360</td>\n",
       "    </tr>\n",
       "    <tr>\n",
       "      <th>18</th>\n",
       "      <td>E3SM-Project</td>\n",
       "      <td>E3SM-1-1</td>\n",
       "      <td>gr</td>\n",
       "      <td>r1i1p1f1</td>\n",
       "      <td>180 x 360</td>\n",
       "    </tr>\n",
       "    <tr>\n",
       "      <th>19</th>\n",
       "      <td>EC-Earth-Consortium</td>\n",
       "      <td>EC-Earth3-AerChem</td>\n",
       "      <td>gr</td>\n",
       "      <td>r1i1p1f1</td>\n",
       "      <td>256 x 512</td>\n",
       "    </tr>\n",
       "    <tr>\n",
       "      <th>20</th>\n",
       "      <td>EC-Earth-Consortium</td>\n",
       "      <td>EC-Earth3-Veg-LR</td>\n",
       "      <td>gr</td>\n",
       "      <td>r1i1p1f1</td>\n",
       "      <td>160 x 320</td>\n",
       "    </tr>\n",
       "    <tr>\n",
       "      <th>21</th>\n",
       "      <td>EC-Earth-Consortium</td>\n",
       "      <td>EC-Earth3-CC</td>\n",
       "      <td>gr</td>\n",
       "      <td>r1i1p1f1</td>\n",
       "      <td>256 x 512</td>\n",
       "    </tr>\n",
       "    <tr>\n",
       "      <th>22</th>\n",
       "      <td>EC-Earth-Consortium</td>\n",
       "      <td>EC-Earth3</td>\n",
       "      <td>gr</td>\n",
       "      <td>r1i1p1f1</td>\n",
       "      <td>256 x 512</td>\n",
       "    </tr>\n",
       "    <tr>\n",
       "      <th>23</th>\n",
       "      <td>EC-Earth-Consortium</td>\n",
       "      <td>EC-Earth3-Veg</td>\n",
       "      <td>gr</td>\n",
       "      <td>r1i1p1f1</td>\n",
       "      <td>256 x 512</td>\n",
       "    </tr>\n",
       "    <tr>\n",
       "      <th>24</th>\n",
       "      <td>FIO-QLNM</td>\n",
       "      <td>FIO-ESM-2-0</td>\n",
       "      <td>gn</td>\n",
       "      <td>r1i1p1f1</td>\n",
       "      <td>192 x 288</td>\n",
       "    </tr>\n",
       "    <tr>\n",
       "      <th>25</th>\n",
       "      <td>HAMMOZ-Consortium</td>\n",
       "      <td>MPI-ESM-1-2-HAM</td>\n",
       "      <td>gn</td>\n",
       "      <td>r1i1p1f1</td>\n",
       "      <td>96 x 192</td>\n",
       "    </tr>\n",
       "    <tr>\n",
       "      <th>26</th>\n",
       "      <td>IPSL</td>\n",
       "      <td>IPSL-CM6A-LR-INCA</td>\n",
       "      <td>gr</td>\n",
       "      <td>r1i1p1f1</td>\n",
       "      <td>143 x 144</td>\n",
       "    </tr>\n",
       "    <tr>\n",
       "      <th>27</th>\n",
       "      <td>IPSL</td>\n",
       "      <td>IPSL-CM5A2-INCA</td>\n",
       "      <td>gr</td>\n",
       "      <td>r1i1p1f1</td>\n",
       "      <td>96 x 96</td>\n",
       "    </tr>\n",
       "    <tr>\n",
       "      <th>28</th>\n",
       "      <td>IPSL</td>\n",
       "      <td>IPSL-CM6A-LR</td>\n",
       "      <td>gr</td>\n",
       "      <td>r1i1p1f1</td>\n",
       "      <td>143 x 144</td>\n",
       "    </tr>\n",
       "    <tr>\n",
       "      <th>29</th>\n",
       "      <td>MIROC</td>\n",
       "      <td>MIROC6</td>\n",
       "      <td>gn</td>\n",
       "      <td>r1i1p1f1</td>\n",
       "      <td>128 x 256</td>\n",
       "    </tr>\n",
       "    <tr>\n",
       "      <th>30</th>\n",
       "      <td>MPI-M</td>\n",
       "      <td>MPI-ESM1-2-HR</td>\n",
       "      <td>gn</td>\n",
       "      <td>r1i1p1f1</td>\n",
       "      <td>192 x 384</td>\n",
       "    </tr>\n",
       "    <tr>\n",
       "      <th>31</th>\n",
       "      <td>MPI-M</td>\n",
       "      <td>ICON-ESM-LR</td>\n",
       "      <td>gn</td>\n",
       "      <td>r1i1p1f1</td>\n",
       "      <td>NaN</td>\n",
       "    </tr>\n",
       "    <tr>\n",
       "      <th>32</th>\n",
       "      <td>MPI-M</td>\n",
       "      <td>MPI-ESM1-2-LR</td>\n",
       "      <td>gn</td>\n",
       "      <td>r1i1p1f1</td>\n",
       "      <td>96 x 192</td>\n",
       "    </tr>\n",
       "    <tr>\n",
       "      <th>33</th>\n",
       "      <td>MRI</td>\n",
       "      <td>MRI-ESM2-0</td>\n",
       "      <td>gn</td>\n",
       "      <td>r1i1p1f1</td>\n",
       "      <td>160 x 320</td>\n",
       "    </tr>\n",
       "    <tr>\n",
       "      <th>34</th>\n",
       "      <td>NASA-GISS</td>\n",
       "      <td>GISS-E2-1-G-CC</td>\n",
       "      <td>gn</td>\n",
       "      <td>r1i1p1f1</td>\n",
       "      <td>90 x 144</td>\n",
       "    </tr>\n",
       "    <tr>\n",
       "      <th>35</th>\n",
       "      <td>NASA-GISS</td>\n",
       "      <td>GISS-E2-1-H</td>\n",
       "      <td>gn</td>\n",
       "      <td>r1i1p1f1</td>\n",
       "      <td>90 x 144</td>\n",
       "    </tr>\n",
       "    <tr>\n",
       "      <th>36</th>\n",
       "      <td>NASA-GISS</td>\n",
       "      <td>GISS-E2-1-G</td>\n",
       "      <td>gn</td>\n",
       "      <td>r1i1p1f1</td>\n",
       "      <td>90 x 144</td>\n",
       "    </tr>\n",
       "    <tr>\n",
       "      <th>37</th>\n",
       "      <td>NASA-GISS</td>\n",
       "      <td>GISS-E2-2-H</td>\n",
       "      <td>gn</td>\n",
       "      <td>r1i1p1f1</td>\n",
       "      <td>90 x 144</td>\n",
       "    </tr>\n",
       "    <tr>\n",
       "      <th>38</th>\n",
       "      <td>NCAR</td>\n",
       "      <td>CESM2-WACCM</td>\n",
       "      <td>gn</td>\n",
       "      <td>r1i1p1f1</td>\n",
       "      <td>192 x 288</td>\n",
       "    </tr>\n",
       "    <tr>\n",
       "      <th>39</th>\n",
       "      <td>NCAR</td>\n",
       "      <td>CESM2</td>\n",
       "      <td>gn</td>\n",
       "      <td>r1i1p1f1</td>\n",
       "      <td>192 x 288</td>\n",
       "    </tr>\n",
       "    <tr>\n",
       "      <th>40</th>\n",
       "      <td>NCAR</td>\n",
       "      <td>CESM2-WACCM-FV2</td>\n",
       "      <td>gn</td>\n",
       "      <td>r1i1p1f1</td>\n",
       "      <td>96 x 144</td>\n",
       "    </tr>\n",
       "    <tr>\n",
       "      <th>41</th>\n",
       "      <td>NCAR</td>\n",
       "      <td>CESM2-FV2</td>\n",
       "      <td>gn</td>\n",
       "      <td>r1i1p1f1</td>\n",
       "      <td>96 x 144</td>\n",
       "    </tr>\n",
       "    <tr>\n",
       "      <th>42</th>\n",
       "      <td>NCC</td>\n",
       "      <td>NorESM2-LM</td>\n",
       "      <td>gn</td>\n",
       "      <td>r1i1p1f1</td>\n",
       "      <td>96 x 144</td>\n",
       "    </tr>\n",
       "    <tr>\n",
       "      <th>43</th>\n",
       "      <td>NCC</td>\n",
       "      <td>NorCPM1</td>\n",
       "      <td>gn</td>\n",
       "      <td>r1i1p1f1</td>\n",
       "      <td>96 x 144</td>\n",
       "    </tr>\n",
       "    <tr>\n",
       "      <th>44</th>\n",
       "      <td>NCC</td>\n",
       "      <td>NorESM2-MM</td>\n",
       "      <td>gn</td>\n",
       "      <td>r1i1p1f1</td>\n",
       "      <td>192 x 288</td>\n",
       "    </tr>\n",
       "    <tr>\n",
       "      <th>45</th>\n",
       "      <td>NIMS-KMA</td>\n",
       "      <td>KACE-1-0-G</td>\n",
       "      <td>gr</td>\n",
       "      <td>r1i1p1f1</td>\n",
       "      <td>144 x 192</td>\n",
       "    </tr>\n",
       "    <tr>\n",
       "      <th>46</th>\n",
       "      <td>NUIST</td>\n",
       "      <td>NESM3</td>\n",
       "      <td>gn</td>\n",
       "      <td>r1i1p1f1</td>\n",
       "      <td>96 x 192</td>\n",
       "    </tr>\n",
       "    <tr>\n",
       "      <th>47</th>\n",
       "      <td>SNU</td>\n",
       "      <td>SAM0-UNICON</td>\n",
       "      <td>gn</td>\n",
       "      <td>r1i1p1f1</td>\n",
       "      <td>192 x 288</td>\n",
       "    </tr>\n",
       "  </tbody>\n",
       "</table>\n",
       "</div>"
      ],
      "text/plain": [
       "         institution_id          source_id grid realization  \\\n",
       "0               AS-RCEC            TaiESM1   gn    r1i1p1f1   \n",
       "1                   AWI      AWI-CM-1-1-MR   gn    r1i1p1f1   \n",
       "2                   AWI     AWI-ESM-1-1-LR   gn    r1i1p1f1   \n",
       "3                   BCC           BCC-ESM1   gn    r1i1p1f1   \n",
       "4                   BCC        BCC-CSM2-MR   gn    r1i1p1f1   \n",
       "5                  CAMS        CAMS-CSM1-0   gn    r1i1p1f1   \n",
       "6                   CAS          FGOALS-g3   gn    r1i1p1f1   \n",
       "7                   CAS        FGOALS-f3-L   gr    r1i1p1f1   \n",
       "8                   CAS         CAS-ESM2-0   gn    r1i1p1f1   \n",
       "9             CCCR-IITM           IITM-ESM   gn    r1i1p1f1   \n",
       "10                CCCma            CanESM5   gn    r1i1p1f1   \n",
       "11                 CMCC          CMCC-ESM2   gn    r1i1p1f1   \n",
       "12                 CMCC       CMCC-CM2-SR5   gn    r1i1p1f1   \n",
       "13                 CMCC       CMCC-CM2-HR4   gn    r1i1p1f1   \n",
       "14                CSIRO      ACCESS-ESM1-5   gn    r1i1p1f1   \n",
       "15         CSIRO-ARCCSS         ACCESS-CM2   gn    r1i1p1f1   \n",
       "16         E3SM-Project           E3SM-1-0   gr    r1i1p1f1   \n",
       "17         E3SM-Project       E3SM-1-1-ECA   gr    r1i1p1f1   \n",
       "18         E3SM-Project           E3SM-1-1   gr    r1i1p1f1   \n",
       "19  EC-Earth-Consortium  EC-Earth3-AerChem   gr    r1i1p1f1   \n",
       "20  EC-Earth-Consortium   EC-Earth3-Veg-LR   gr    r1i1p1f1   \n",
       "21  EC-Earth-Consortium       EC-Earth3-CC   gr    r1i1p1f1   \n",
       "22  EC-Earth-Consortium          EC-Earth3   gr    r1i1p1f1   \n",
       "23  EC-Earth-Consortium      EC-Earth3-Veg   gr    r1i1p1f1   \n",
       "24             FIO-QLNM        FIO-ESM-2-0   gn    r1i1p1f1   \n",
       "25    HAMMOZ-Consortium    MPI-ESM-1-2-HAM   gn    r1i1p1f1   \n",
       "26                 IPSL  IPSL-CM6A-LR-INCA   gr    r1i1p1f1   \n",
       "27                 IPSL    IPSL-CM5A2-INCA   gr    r1i1p1f1   \n",
       "28                 IPSL       IPSL-CM6A-LR   gr    r1i1p1f1   \n",
       "29                MIROC             MIROC6   gn    r1i1p1f1   \n",
       "30                MPI-M      MPI-ESM1-2-HR   gn    r1i1p1f1   \n",
       "31                MPI-M        ICON-ESM-LR   gn    r1i1p1f1   \n",
       "32                MPI-M      MPI-ESM1-2-LR   gn    r1i1p1f1   \n",
       "33                  MRI         MRI-ESM2-0   gn    r1i1p1f1   \n",
       "34            NASA-GISS     GISS-E2-1-G-CC   gn    r1i1p1f1   \n",
       "35            NASA-GISS        GISS-E2-1-H   gn    r1i1p1f1   \n",
       "36            NASA-GISS        GISS-E2-1-G   gn    r1i1p1f1   \n",
       "37            NASA-GISS        GISS-E2-2-H   gn    r1i1p1f1   \n",
       "38                 NCAR        CESM2-WACCM   gn    r1i1p1f1   \n",
       "39                 NCAR              CESM2   gn    r1i1p1f1   \n",
       "40                 NCAR    CESM2-WACCM-FV2   gn    r1i1p1f1   \n",
       "41                 NCAR          CESM2-FV2   gn    r1i1p1f1   \n",
       "42                  NCC         NorESM2-LM   gn    r1i1p1f1   \n",
       "43                  NCC            NorCPM1   gn    r1i1p1f1   \n",
       "44                  NCC         NorESM2-MM   gn    r1i1p1f1   \n",
       "45             NIMS-KMA         KACE-1-0-G   gr    r1i1p1f1   \n",
       "46                NUIST              NESM3   gn    r1i1p1f1   \n",
       "47                  SNU        SAM0-UNICON   gn    r1i1p1f1   \n",
       "\n",
       "   No. of grids (Lat x Lon)  \n",
       "0                 192 x 288  \n",
       "1                 192 x 384  \n",
       "2                  96 x 192  \n",
       "3                  64 x 128  \n",
       "4                 160 x 320  \n",
       "5                 160 x 320  \n",
       "6                  80 x 180  \n",
       "7                 180 x 288  \n",
       "8                 128 x 256  \n",
       "9                  94 x 192  \n",
       "10                 64 x 128  \n",
       "11                192 x 288  \n",
       "12                192 x 288  \n",
       "13                192 x 288  \n",
       "14                145 x 192  \n",
       "15                144 x 192  \n",
       "16                180 x 360  \n",
       "17                180 x 360  \n",
       "18                180 x 360  \n",
       "19                256 x 512  \n",
       "20                160 x 320  \n",
       "21                256 x 512  \n",
       "22                256 x 512  \n",
       "23                256 x 512  \n",
       "24                192 x 288  \n",
       "25                 96 x 192  \n",
       "26                143 x 144  \n",
       "27                  96 x 96  \n",
       "28                143 x 144  \n",
       "29                128 x 256  \n",
       "30                192 x 384  \n",
       "31                      NaN  \n",
       "32                 96 x 192  \n",
       "33                160 x 320  \n",
       "34                 90 x 144  \n",
       "35                 90 x 144  \n",
       "36                 90 x 144  \n",
       "37                 90 x 144  \n",
       "38                192 x 288  \n",
       "39                192 x 288  \n",
       "40                 96 x 144  \n",
       "41                 96 x 144  \n",
       "42                 96 x 144  \n",
       "43                 96 x 144  \n",
       "44                192 x 288  \n",
       "45                144 x 192  \n",
       "46                 96 x 192  \n",
       "47                192 x 288  "
      ]
     },
     "execution_count": 20,
     "metadata": {},
     "output_type": "execute_result"
    }
   ],
   "source": [
    "df"
   ]
  },
  {
   "cell_type": "code",
   "execution_count": 21,
   "id": "3e33eb8f-e9f7-444f-bbcd-cfa9e2a8a61c",
   "metadata": {},
   "outputs": [
    {
     "name": "stdout",
     "output_type": "stream",
     "text": [
      "AWI-CM-1-1-MR\n",
      "ICON-ESM-LR\n",
      "NorESM2-LM\n"
     ]
    }
   ],
   "source": [
    "for i, suffix in df.source_id.iteritems():\n",
    "    p = gdir.get_filepath('gcm_data',filesuffix=suffix)\n",
    "    if os.path.isfile(p):\n",
    "        t_ds = xr.open_dataset(p)\n",
    "        df.loc[i,'time']=str(t_ds.attrs['hydro_yr_0'])+'-'+str(t_ds.attrs['hydro_yr_1'])\n",
    "    else:\n",
    "        print(suffix)\n",
    "df = df.sort_values(by='institution_id').reset_index(drop=True)"
   ]
  },
  {
   "cell_type": "code",
   "execution_count": 22,
   "id": "efffbde2-8943-4eea-8460-f527baffb245",
   "metadata": {},
   "outputs": [
    {
     "data": {
      "text/plain": [
       "1850-2034    22\n",
       "1850-2014    21\n",
       "1850-2016     1\n",
       "1850-1999     1\n",
       "Name: time, dtype: int64"
      ]
     },
     "execution_count": 22,
     "metadata": {},
     "output_type": "execute_result"
    }
   ],
   "source": [
    "df.time.value_counts()"
   ]
  },
  {
   "cell_type": "code",
   "execution_count": 26,
   "id": "e807d498-7c80-4ffe-93d4-9bef9239e719",
   "metadata": {},
   "outputs": [],
   "source": [
    "df.to_csv('cmip6_historical_overview.csv',sep=',')"
   ]
  }
 ],
 "metadata": {
  "kernelspec": {
   "display_name": "Python 3 (ipykernel)",
   "language": "python",
   "name": "python3"
  },
  "language_info": {
   "codemirror_mode": {
    "name": "ipython",
    "version": 3
   },
   "file_extension": ".py",
   "mimetype": "text/x-python",
   "name": "python",
   "nbconvert_exporter": "python",
   "pygments_lexer": "ipython3",
   "version": "3.9.7"
  }
 },
 "nbformat": 4,
 "nbformat_minor": 5
}
